{
  "nbformat": 4,
  "nbformat_minor": 0,
  "metadata": {
    "colab": {
      "provenance": [],
      "include_colab_link": true
    },
    "kernelspec": {
      "name": "python3",
      "display_name": "Python 3"
    },
    "language_info": {
      "name": "python"
    }
  },
  "cells": [
    {
      "cell_type": "markdown",
      "metadata": {
        "id": "view-in-github",
        "colab_type": "text"
      },
      "source": [
        "<a href=\"https://colab.research.google.com/github/Sme2200201/Computational-Journalism---NKUA/blob/main/exercise4.ipynb\" target=\"_parent\"><img src=\"https://colab.research.google.com/assets/colab-badge.svg\" alt=\"Open In Colab\"/></a>"
      ]
    },
    {
      "cell_type": "markdown",
      "source": [
        "### Άσκηση 1\n",
        "\n",
        "Φτιάξτε ένα νέο κελί κώδικα ακριβώς από κάτω και:\n",
        "\n",
        "- Φτιάξτε μια λίστα με όνομα titlesL και βάλτε μέσα τους τίτλους 3 αγαπημένων σας ταινιών\n",
        "- Φτιάξτε άλλη μια λίστα με όνομα ratingsL και βάλτε μέσα το βαθμό (από το 1 έως το 10) που θα βάζατε σε καθε μια από τις ταινίες\n",
        "- Φτιάξτε μια for loop που να τρέχει για όλα τα αντικείμενα της λίστας των ταινιών και να τυπώνει το όνομά της και το βαθμό της.\n",
        "\n",
        "Hints:\n",
        "Δεδομενου ότι οι δύο λίστες έχουν τον ίδιο αριθμό αντικειμένων και η σειρά των βαθμολογιών αντιστοιχεί στη σειρά των ταινιών, μπορείτε να χρησιμοποιήσετε τον αριθμό του index και την range() σε συνδυασμό με τη len().\n",
        "\n",
        "**Γράψτε σε comment τι κάνει η κάθε γραμμή του κώδικά σας.**\n"
      ],
      "metadata": {
        "id": "QOAgGYGWvJIp"
      }
    },
    {
      "cell_type": "code",
      "source": [
        "titlesL = [\"All the President's Men\", \"Nanook of the North\", \"Chronicle of a Summer\"] #Δημιουργεί τη λίστα με τις 3 αγαπημένες μου ταινίες."
      ],
      "metadata": {
        "id": "FEdG8zudOA2q"
      },
      "execution_count": 1,
      "outputs": []
    },
    {
      "cell_type": "code",
      "source": [
        "ratingsL = [9, 10, 8] #Δημιουργεί τη λίστα με τις βαθμολογίες που θα έβαζα στις ταινίες.\n"
      ],
      "metadata": {
        "id": "wxuW62Ly2z8q"
      },
      "execution_count": 3,
      "outputs": []
    },
    {
      "cell_type": "code",
      "source": [
        "#Χρησιμοποιώ τη for loop για να τρέξει επαναληπτικά για όλα τα αντικείμενα της λίστας των ταινιών\n",
        "#Με τη range(len(titlesL)) δημιουργείται μια ακολουθία αριθμών από το 0 έως το τέλος του len της λίστας titlesL\n",
        "#Με την print(titlesL[i], ratingsL[i]) τυπώνεται το όνομα και ο βαθμός της κάθε ταινίας, όπου i στο titlesL είναι το i στοιχείο της λίστας titles (η εκάστοτε ταινία) και i στην ratingsL αντίστοιχα το i στοιχείο στη λίστα ratingsL, δηλαδή η βαθμολογία της εκάστοτε ταινίας.\n",
        "\n",
        "for i in range(len(titlesL)):\n",
        "   print(titlesL[i], ratingsL[i])"
      ],
      "metadata": {
        "colab": {
          "base_uri": "https://localhost:8080/"
        },
        "id": "IQV6PGf1ToyK",
        "outputId": "f34c4162-7049-4a3c-e195-135fcc957ad1"
      },
      "execution_count": 19,
      "outputs": [
        {
          "output_type": "stream",
          "name": "stdout",
          "text": [
            "All the Presidents Men 9\n",
            "Nanook of the North 10\n",
            "Chronicle of a Summer 8\n"
          ]
        }
      ]
    },
    {
      "cell_type": "markdown",
      "source": [
        "### Άσκηση 2\n",
        "\n",
        "Φτιάξτε ένα νέο κελί κώδικα ακριβώς από κάτω και:\n",
        "\n",
        "- Φτιάξτε μια λίστα με όνομα titlesL και βάλτε μέσα τους τίτλους 3 αγαπημένων σας ταινιών\n",
        "- Φτιάξτε άλλη μια λίστα με όνομα ratingsL και βάλτε μέσα το βαθμό (από το 1 έως το 10) που θα βάζατε σε καθε μια από τις ταινίες\n",
        "\n",
        "**Αν κάνατε την προηγούμενη άσκηση, χρησιμοποιήστε τις ήδη δημιουργημένες λίστες titlesL και ratingsL - δλδ μην φτιάξετε καινούριες λίστες για το ίδιο πράγμα**\n",
        "\n",
        "- Φτιάξτε μια κενή λίστα με όνομα moviesL\n",
        "\n",
        "Φτιάξτε μια for loop που να τρέχει για όλα τα indexes της λίστας των ταινιών και να κάνει τα παρακάτω:\n",
        "- δημιουργεί ένα κενό λεξικό με όνομα movieD\n",
        "- φτιάχνει ένα item στο λεξικό με όνομα κλειδιού \"title\" και τιμή τον τίτλο που αντιστοιχεί στο εκάστοτε index της λίστας titlesL\n",
        "- φτιάχνει ένα item στο λεξικό με όνομα κλειδιού \"rating\" και τιμή το rating που αντιστοιχεδί στο εκάστοτε index της λίστας ratingsL\n",
        "- προσθέτει το λεξικό στη λίστα moviesL\n",
        "\n",
        "Τέλος, τυπώστε τη λίστα moviesL.\n",
        "\n",
        "**Γράψτε σε comment τι κάνει η κάθε γραμμή του κώδικά σας.**\n"
      ],
      "metadata": {
        "id": "TjFqUapc0JMr"
      }
    },
    {
      "cell_type": "code",
      "source": [
        "#Φτιάχνω το λεξικό D των ταινιών\n",
        "D = {\n",
        "    \"All the President's Men\": 9,\n",
        "    \"Nanook of the North\": 10,\n",
        "    \"Chronicle of a Summer\": 8\n",
        "}\n",
        "\n",
        "for key, value in D.items():\n",
        "    print(key, value)"
      ],
      "metadata": {
        "colab": {
          "base_uri": "https://localhost:8080/"
        },
        "id": "KXSNP4g2U2AU",
        "outputId": "8e92b0e4-b97e-4d91-e72e-ca4ba95fef8b"
      },
      "execution_count": 21,
      "outputs": [
        {
          "output_type": "stream",
          "name": "stdout",
          "text": [
            "All the President's Men 9\n",
            "Nanook of the North 10\n",
            "Chronicle of a Summer 8\n"
          ]
        }
      ]
    },
    {
      "cell_type": "code",
      "source": [
        "titlesL = [\"All the President's Men\", \"Nanook of the North\", \"Chronicle of a Summer\"]\n",
        "\n",
        "ratingsL = [9, 10, 8]\n",
        "\n",
        "#Δημιουργεί την κενή λίστα για να αποθηκεύσουμε τα λεξικά των ταινιών\n",
        "moviesL = []\n",
        "\n",
        "#Δημιουργείται η for loop που θα διατρέξει κάθε index των λιστών\n",
        "for i in range(len(titlesL)):\n",
        "    movieD = {}  #Δημιουργεί ένα άδειο λεξικό για κάθε ταινία\n",
        "    movieD[\"title\"] = titlesL[i]  #Προσθέτει ένα item στο λεξικό με όνομα κλειδιού \"title\" και τιμή τον τίτλο που αντιστοιχεί στο εκάστοτε index της λίστας titlesL\n",
        "    movieD[\"rating\"] = ratingsL[i]  #Προσθέτει ένα item στο λεξικό με όνομα κλειδιού \"rating\" και τιμή το rating που αντιστοιχεί στο εκάστοτε index της λίστας ratingsL\n",
        "    moviesL.append(movieD)  #Προσθέτει το λεξικό στη λίστα moviesL\n",
        "\n",
        "#Τυπώνει τη λίστα με τα λεξικά ταινιών\n",
        "print(moviesL)"
      ],
      "metadata": {
        "colab": {
          "base_uri": "https://localhost:8080/"
        },
        "id": "JXn9NPn9VFTL",
        "outputId": "46c0bdb9-b6d7-4a5d-a41c-3b490e0968ef"
      },
      "execution_count": 40,
      "outputs": [
        {
          "output_type": "stream",
          "name": "stdout",
          "text": [
            "[{'title': \"All the President's Men\", 'rating': 9}, {'title': 'Nanook of the North', 'rating': 10}, {'title': 'Chronicle of a Summer', 'rating': 8}]\n"
          ]
        }
      ]
    },
    {
      "cell_type": "markdown",
      "source": [
        "### Άσκηση 3\n",
        "\n",
        "Γράψτε ένα προγραμματάκι που θα αθροίζει όλους τους περιττούς αριθμούς από το 1 έως και το 100 και θα τυπώνει το τελικό άθροισμα.\n",
        "\n",
        "Hints & tips:\n",
        "\n",
        "- περιττοί είναι οι αριθμοί που το υπόλοιπο της διαίρεσής τους με το 2 ΔΕΝ είναι 0 (x % 2 != 0)\n",
        "- μπορούμε αρχικά να ορίσουμε ότι το άθροισμα των περιττών αριθμών είναι 0 (sum = 0)\n",
        "- στη συνέχεια μπορούμε να φτιάξουμε μια λούπα που θα κάνει τα εξής:\n",
        "  - για κάθε αριθμό από το 1 ως και το 100\n",
        "  - αν το υπόλοιπο της διαίρεσης του αριθμού με το 2 δεν είναι 0\n",
        "  - το άθροισμα θα αυξάνεται κατά τον αριθμό\n"
      ],
      "metadata": {
        "id": "_0torHabJHFA"
      }
    },
    {
      "cell_type": "code",
      "source": [
        "sum = 0\n",
        "for i in range(1, 101):\n",
        "  if i % 2 != 0:\n",
        "    sum += i\n",
        "print('Το άθροισμα των αριθμών από το 1 έως το 100 είναι', sum)"
      ],
      "metadata": {
        "colab": {
          "base_uri": "https://localhost:8080/"
        },
        "id": "t7LyLhXZWvxs",
        "outputId": "6afb27b6-0388-44ca-c4e3-d09352aa9702"
      },
      "execution_count": 33,
      "outputs": [
        {
          "output_type": "stream",
          "name": "stdout",
          "text": [
            "Το άθροισμα των αριθμών από το 1 έως το 100 είναι 2500\n"
          ]
        }
      ]
    },
    {
      "cell_type": "code",
      "execution_count": null,
      "metadata": {
        "id": "rKIkwJofI3Cj"
      },
      "outputs": [],
      "source": []
    },
    {
      "cell_type": "markdown",
      "source": [
        "### Άσκηση 4\n",
        "\n",
        "Τροποποιήστε το παραπάνω πρόγραμμα έτσι ώστε, εκτός από το άθροισμα των περιττών, να υπολογίζει και να τυπώνει ΚΑΙ:\n",
        "- το πλήθος των περιττών αριθμών\n",
        "- το άθροισμα των ζυγών αριθμών στο ίδιο εύρος\n",
        "- το πλήθος των ζυγών αριθμών"
      ],
      "metadata": {
        "id": "zvsE7AANokOf"
      }
    },
    {
      "cell_type": "code",
      "source": [
        "odd_sum = 0\n",
        "odd_count = 0\n",
        "even_sum = 0\n",
        "even_count = 0\n",
        "\n",
        "for i in range(1, 101):\n",
        "    if i % 2 != 0:\n",
        "        odd_sum +=  i\n",
        "        odd_count += 1\n",
        "    else:\n",
        "        even_sum += i\n",
        "        even_count += 1\n",
        "print(\"Άθροισμα περιττών αριθμών:\", odd_sum)\n",
        "print(\"Πλήθος περιττών αριθμών:\", odd_count)\n",
        "print(\"Άθροισμα ζυγών αριθμών:\", even_sum)\n",
        "print(\"Πλήθος ζυγών αριθμών:\", even_count)"
      ],
      "metadata": {
        "id": "Wza4cHEzO1Y_",
        "colab": {
          "base_uri": "https://localhost:8080/"
        },
        "outputId": "801f156b-c048-45e6-96c6-acaf8cf523d6"
      },
      "execution_count": 38,
      "outputs": [
        {
          "output_type": "stream",
          "name": "stdout",
          "text": [
            "Άθροισμα περιττών αριθμών: 2500\n",
            "Πλήθος περιττών αριθμών: 50\n",
            "Άθροισμα ζυγών αριθμών: 2550\n",
            "Πλήθος ζυγών αριθμών: 50\n"
          ]
        }
      ]
    }
  ]
}