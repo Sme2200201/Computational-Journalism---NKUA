{
  "nbformat": 4,
  "nbformat_minor": 0,
  "metadata": {
    "colab": {
      "provenance": [],
      "include_colab_link": true
    },
    "kernelspec": {
      "name": "python3",
      "display_name": "Python 3"
    },
    "language_info": {
      "name": "python"
    }
  },
  "cells": [
    {
      "cell_type": "markdown",
      "metadata": {
        "id": "view-in-github",
        "colab_type": "text"
      },
      "source": [
        "<a href=\"https://colab.research.google.com/github/Sme2200201/Computational-Journalism---NKUA/blob/main/Homework_week2.ipynb\" target=\"_parent\"><img src=\"https://colab.research.google.com/assets/colab-badge.svg\" alt=\"Open In Colab\"/></a>"
      ]
    },
    {
      "cell_type": "markdown",
      "source": [
        "**Άσκηση 1**\n",
        "\n",
        "1. Σε ένα νέο κελί κώδικα, ξαναγράψτε τον παρακάτω κώδικα, έτσι ώστε να τρέχει χωρίς να πετάει error."
      ],
      "metadata": {
        "id": "RNY03X7pKHnf"
      }
    },
    {
      "cell_type": "code",
      "source": [
        "myName = \"Vasilis\"\n",
        "myEmail = \"bill2005@example.com\"\n",
        "myAM_4first_digits = 9983\n",
        "favorite_movies = \"Life of Bryan, \" + \"The Meaning of Life\"\n",
        "\n"
      ],
      "metadata": {
        "id": "MPJi5XOXhKlU"
      },
      "execution_count": null,
      "outputs": []
    },
    {
      "cell_type": "code",
      "source": [
        "my name = \"Vasilis\"\n",
        "my-email = bill2005@example.com\n",
        "myAM_4first#digits = 9983\n",
        "2FavoriteMovies = \"Life of Bryan,\" + \" The meaning of life\""
      ],
      "metadata": {
        "id": "1duhjtEIKNJx"
      },
      "execution_count": null,
      "outputs": []
    },
    {
      "cell_type": "code",
      "source": [
        "print(myName)\n",
        "print(myEmail)\n",
        "print(myAM_4first_digits)\n",
        "print(\"favorite_movies\")"
      ],
      "metadata": {
        "colab": {
          "base_uri": "https://localhost:8080/"
        },
        "id": "65oEF500hr2b",
        "outputId": "8d287cf5-ecba-49da-c147-2598e6d46ce3"
      },
      "execution_count": null,
      "outputs": [
        {
          "output_type": "stream",
          "name": "stdout",
          "text": [
            "Vasilis\n",
            "bill2005@example.com\n",
            "9983\n",
            "favorite_movies\n"
          ]
        }
      ]
    },
    {
      "cell_type": "markdown",
      "source": [
        "2. Tυπώστε (print) τον τύπο δεδομένων καθεμιάς από τις παραπάνω μεταβλητές"
      ],
      "metadata": {
        "id": "uWOJYGCtPaS8"
      }
    },
    {
      "cell_type": "markdown",
      "source": [
        "**Άσκηση 2**\n",
        "- Βρείτε ένα άρθρο σε ένα ειδησεογραφικό site.\n",
        "- Φτιάξτε ένα νέο κελί κώδικα (ή όσα θέλετε) ακριβώς κάτω από αυτό και δημιουργήστε μεταβλητές με τα εξής στοιχεία:\n",
        "  - Τίτλος άρθρου\n",
        "  - Ημερομηνία δημοσίευσης\n",
        "  - Όνομα site\n",
        "  - url άρθρου\n",
        "- Τυπώστε (print) μια πρόταση της μορφής: Το άρθρο τάδε δημοσιεύτηκε στο τάδε site την τάδε ημερομηνία και βρίσκεται στην τάδε ηλεκτρονική διεύθυνση."
      ],
      "metadata": {
        "id": "iKYSWrCOLxwA"
      }
    },
    {
      "cell_type": "code",
      "source": [
        "Titlos_Arthrou = \"Μετρό: Κλειστός το σαββατοκύριακο ο σταθμός «Δημοτικό Θέατρο» λόγω εργασιών\"\n",
        "Hmeromhnia_Dhmosieushs = \"Παρασκευή 15 Μαρτίου 2024\"\n",
        "Onoma_Site = \"cnn.gr\"\n",
        "url_Arthrou = \"https://www.cnn.gr/taksidi/ellada/story/410270/metro-kleistos-to-savvatokyriako-o-stathmos-dimotiko-theatro-logo-ergasion\"\n",
        "print(\"Το άρθρο\", Titlos_Arthrou, \"δημοσιεύτηκε στο\", Onoma_Site, \"την\", Hmeromhnia_Dhmosieushs, \"και βρίσκεται στην ηλεκτρονική διεύθυνση\", url_Arthrou + \".\")"
      ],
      "metadata": {
        "colab": {
          "base_uri": "https://localhost:8080/"
        },
        "id": "NPOUPNMFiTNz",
        "outputId": "0f2e63a1-249a-4c78-c954-07b59557df68"
      },
      "execution_count": null,
      "outputs": [
        {
          "output_type": "stream",
          "name": "stdout",
          "text": [
            "Το άρθρο Μετρό: Κλειστός το σαββατοκύριακο ο σταθμός «Δημοτικό Θέατρο» λόγω εργασιών δημοσιεύτηκε στο cnn.gr την Παρασκευή 15 Μαρτίου 2024 και βρίσκεται στην ηλεκτρονική διεύθυνση https://www.cnn.gr/taksidi/ellada/story/410270/metro-kleistos-to-savvatokyriako-o-stathmos-dimotiko-theatro-logo-ergasion.\n"
          ]
        }
      ]
    },
    {
      "cell_type": "markdown",
      "source": [
        "**Άσκηση 3**\n",
        "\n",
        "Σε ένα νέο κελί, μετατρέψτε τον τύπο της μεταβλητής ή των μεταβλητών που απαιτείται, έτσι ώστε να μπορεί να εκτελεστεί σωστά η παρακάτω πράξη:\n",
        "\n",
        "(μην γράψετε σωστά την τιμή της/τους - αλλάξτε τον τύπο δεδομένων)\n",
        "(Tip: κάνετε copy-paste τις 2 τελευταίες γραμμές και κάνετε τη διόρθωση που απαιτείται στην προτελευταία γραμμή)"
      ],
      "metadata": {
        "id": "pklY5u3eQKLZ"
      }
    },
    {
      "cell_type": "code",
      "source": [
        "monthly_rent = \"300\"\n",
        "months = 12\n",
        "yearly_rent = monthly_rent * months\n",
        "print(yearly_rent)\n"
      ],
      "metadata": {
        "colab": {
          "base_uri": "https://localhost:8080/"
        },
        "id": "aLfDQbayNkVd",
        "outputId": "431c0b0b-ba75-46e5-fc57-6e0eacc488fa"
      },
      "execution_count": null,
      "outputs": [
        {
          "output_type": "stream",
          "name": "stdout",
          "text": [
            "300300300300300300300300300300300300\n"
          ]
        }
      ]
    },
    {
      "cell_type": "code",
      "source": [
        "yearly_rent = int(monthly_rent)*months\n",
        "print(yearly_rent)"
      ],
      "metadata": {
        "colab": {
          "base_uri": "https://localhost:8080/"
        },
        "id": "Ud8Pb4JzlAXj",
        "outputId": "14489ee5-9b4f-487f-a84b-74c9ad6bb81f"
      },
      "execution_count": null,
      "outputs": [
        {
          "output_type": "stream",
          "name": "stdout",
          "text": [
            "3600\n"
          ]
        }
      ]
    },
    {
      "cell_type": "markdown",
      "source": [
        "**Άσκηση 4**\n",
        "\n",
        "1. Βρείτε το αποτέλεσμα της πρόσθεσης του 132 με το 13 και τυπώστε το σαν string (σε μία γραμμή κώδικα)\n",
        "2. Βρείτε το τετράγωνο του πηλίκου της διαίρεσης του παραπάνω αθροίσματος με το υπόλοιπο της διαίρεσης του 132 με το 13 και τυπώστε το σαν δεκαδικό (σε μια γραμμή κώδικα)\n",
        "\n",
        "Tip: μπορείτε να κάνετε μία-μία τις πράξεις ώστε να ελέγχετε ότι το αποτέλεσμα της καθεμίας είναι σωστό και στο τέλος να βάλετε όλες τις εντολές σε μία γραμμή (αναγκαστικά θα υπάρχουν πολλές παρενθέσεις)"
      ],
      "metadata": {
        "id": "4-MexfUhUJr5"
      }
    },
    {
      "cell_type": "markdown",
      "source": [
        "**Άσκηση 5**\n",
        "\n",
        "Γράψτε μια γραμμή κώδικα κάτω από το παρακάτω κελί, έτσι ώστε κάθε φορά που θα το τρέχετε, να τυπώνετε (print) η τιμή της μεταβητής counter αυξημένη κατά 1."
      ],
      "metadata": {
        "id": "i9uTmCdLa1F6"
      }
    },
    {
      "cell_type": "code",
      "source": [
        "apotelesma = str(132 + 13)\n",
        "print(apotelesma)"
      ],
      "metadata": {
        "colab": {
          "base_uri": "https://localhost:8080/"
        },
        "id": "GjDVvkBplLg6",
        "outputId": "a2809fed-9fde-4bcf-e720-509af112852c"
      },
      "execution_count": null,
      "outputs": [
        {
          "output_type": "stream",
          "name": "stdout",
          "text": [
            "145\n"
          ]
        }
      ]
    },
    {
      "cell_type": "code",
      "source": [
        "apotelesma = (132 + 13) ** 2 / (132 % 13)\n",
        "print(apotelesma)"
      ],
      "metadata": {
        "colab": {
          "base_uri": "https://localhost:8080/"
        },
        "id": "_ZCo4GcbmmKH",
        "outputId": "0c73fe41-0b14-44df-fb0d-248342d80363"
      },
      "execution_count": null,
      "outputs": [
        {
          "output_type": "stream",
          "name": "stdout",
          "text": [
            "10512.5\n"
          ]
        }
      ]
    },
    {
      "cell_type": "code",
      "source": [
        "counter = 1"
      ],
      "metadata": {
        "id": "-Y0-XA9CbNFw"
      },
      "execution_count": null,
      "outputs": []
    },
    {
      "cell_type": "code",
      "source": [
        "# γράψτε τη ζητούμενη εντολή ακριβώς κάτω από τα σχόλια και πριν την εντολή print(counter)\n",
        "# και τρέξτε το κελί 5-6 φορές\n",
        "# κάθε φορά που το τρέχετε, θα πρέπει ο αριθμός που τυπώνεται να είναι μεγαλύτερος από τον προηγούμενο κατά 1\n",
        "\n",
        "print(counter)"
      ],
      "metadata": {
        "id": "LkXxdJgUbvkQ"
      },
      "execution_count": null,
      "outputs": []
    }
  ]
}